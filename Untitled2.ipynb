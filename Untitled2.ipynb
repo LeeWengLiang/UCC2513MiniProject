{
 "cells": [
  {
   "cell_type": "code",
   "execution_count": 1,
   "id": "76380b0f",
   "metadata": {},
   "outputs": [
    {
     "name": "stdout",
     "output_type": "stream",
     "text": [
      "Requirement already satisfied: opencv-python in c:\\users\\dell\\anaconda3\\lib\\site-packages (4.8.0.74)\n",
      "Requirement already satisfied: numpy>=1.17.0 in c:\\users\\dell\\anaconda3\\lib\\site-packages (from opencv-python) (1.23.5)\n"
     ]
    }
   ],
   "source": [
    "!pip install opencv-python"
   ]
  },
  {
   "cell_type": "code",
   "execution_count": 3,
   "id": "96835af2",
   "metadata": {},
   "outputs": [],
   "source": [
    "import cv2\n",
    "\n",
    "# Load the video\n",
    "video = cv2.VideoCapture('img_pexels.mp4')\n",
    "\n",
    "# Get the original video's frame dimensions\n",
    "original_width = int(video.get(cv2.CAP_PROP_FRAME_WIDTH))\n",
    "original_height = int(video.get(cv2.CAP_PROP_FRAME_HEIGHT))\n",
    "\n",
    "# Set the desired smaller frame dimensions\n",
    "smaller_width = 640\n",
    "smaller_height = 480\n",
    "\n",
    "# Create a VideoWriter object to save the smaller video\n",
    "output = cv2.VideoWriter('smaller_img_pexels.avi', cv2.VideoWriter_fourcc(*'MJPG'), 25, (smaller_width, smaller_height))\n",
    "\n",
    "# Read and process each frame of the video\n",
    "while True:\n",
    "    ret, frame = video.read()\n",
    "    \n",
    "    # Break the loop if the video has ended\n",
    "    if not ret:\n",
    "        break\n",
    "    \n",
    "    # Resize the frame to the smaller dimensions\n",
    "    smaller_frame = cv2.resize(frame, (smaller_width, smaller_height))\n",
    "    \n",
    "    # Display the smaller frame\n",
    "    cv2.imshow('Smaller Video', smaller_frame)\n",
    "    \n",
    "    # Write the smaller frame to the output video file\n",
    "    output.write(smaller_frame)\n",
    "    \n",
    "    # Exit the loop if 'q' is pressed\n",
    "    if cv2.waitKey(1) & 0xFF == ord('q'):\n",
    "        break\n",
    "\n",
    "# Release the video and output objects\n",
    "video.release()\n",
    "output.release()\n",
    "\n",
    "# Close the OpenCV windows\n",
    "cv2.destroyAllWindows()"
   ]
  },
  {
   "cell_type": "code",
   "execution_count": null,
   "id": "dddda308",
   "metadata": {},
   "outputs": [],
   "source": [
    "import cv2\n",
    "\n",
    "# Load the original image\n",
    "image = cv2.imread('dog.png')\n",
    "\n",
    "# Linear interpolation\n",
    "linear_interpolation = cv2.resize(image, None, fx=2, fy=2, interpolation=cv2.INTER_LINEAR)\n",
    "\n",
    "# Cubic interpolation\n",
    "cubic_interpolation = cv2.resize(image, None, fx=2, fy=2, interpolation=cv2.INTER_CUBIC)\n",
    "\n",
    "# Nearest neighbor interpolation\n",
    "nearest_neighbor_interpolation = cv2.resize(image, None, fx=2, fy=2, interpolation=cv2.INTER_NEAREST)\n",
    "\n",
    "# Display the original image and the upscaled images\n",
    "cv2.imshow('Original', image)\n",
    "cv2.imshow('Linear Interpolation', linear_interpolation)\n",
    "cv2.imshow('Cubic Interpolation', cubic_interpolation)\n",
    "cv2.imshow('Nearest Neighbor Interpolation', nearest_neighbor_interpolation)\n",
    "\n",
    "# Wait for a key press to close the windows\n",
    "cv2.waitKey(0)\n",
    "cv2.destroyAllWindows()\n",
    "\n",
    "#Linear interpolation: This technique produces smoother results compared to nearest neighbor interpolation. It interpolates pixel values based on a linear function, resulting in a gradual transition between pixels. However, fine details in the original image may appear slightly blurred or softened.\n",
    "#Cubic interpolation: This technique provides even smoother results with more emphasis on preserving the overall shape and structure of the image. It uses cubic splines to interpolate pixel values, resulting in a better preservation of fine details compared to linear interpolation.\n",
    "#Nearest neighbor interpolation: This technique gives a blocky or pixelated appearance to the upscaled image. It does not perform any interpolation and simply duplicates the nearest pixel values. As a result, the upscaled image may appear less smooth and lose finer details."
   ]
  }
 ],
 "metadata": {
  "kernelspec": {
   "display_name": "Python 3 (ipykernel)",
   "language": "python",
   "name": "python3"
  },
  "language_info": {
   "codemirror_mode": {
    "name": "ipython",
    "version": 3
   },
   "file_extension": ".py",
   "mimetype": "text/x-python",
   "name": "python",
   "nbconvert_exporter": "python",
   "pygments_lexer": "ipython3",
   "version": "3.10.9"
  }
 },
 "nbformat": 4,
 "nbformat_minor": 5
}
