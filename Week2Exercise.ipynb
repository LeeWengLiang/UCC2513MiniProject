{
 "cells": [
  {
   "cell_type": "code",
   "execution_count": 5,
   "id": "11d2dce4",
   "metadata": {},
   "outputs": [
    {
     "name": "stdout",
     "output_type": "stream",
     "text": [
      "[0 1 2 3 4 5 6 7 8 9]\n",
      "[ 0  1  2  3 25 25 25  7  8  9]\n",
      "[-1 25 25]\n",
      "[ 0  1  2  3 25 25 25  7  8  9]\n"
     ]
    }
   ],
   "source": [
    "import numpy as np\n",
    "\n",
    "my_arr = np.arange(10)\n",
    "print(my_arr)\n",
    "my_arr[4:7] = 25\n",
    "print(my_arr)\n",
    "arr_slice = my_arr[4:7].copy()\n",
    "\n",
    "arr_slice[0] = -1\n",
    "\n",
    "print(arr_slice)\n",
    "print(my_arr)"
   ]
  },
  {
   "cell_type": "code",
   "execution_count": 4,
   "id": "dbdd091f",
   "metadata": {},
   "outputs": [
    {
     "data": {
      "image/png": "[encoded data removed]",
      "text/plain": [
       "<Figure size 640x480 with 1 Axes>"
      ]
     },
     "metadata": {},
     "output_type": "display_data"
    }
   ],
   "source": [
    "import numpy as np\n",
    "import matplotlib.pyplot as plt\n",
    "\n",
    "image_width = 400\n",
    "image_height = 400\n",
    "\n",
    "image = np.zeros((image_height, image_width))\n",
    "\n",
    "center_x = image_width // 2\n",
    "center_y = image_height // 2\n",
    "radius = 50\n",
    "\n",
    "y_coords, x_coords = np.ogrid[:image_height, :image_width]\n",
    "mask = (x_coords - center_x) ** 2 + (y_coords - center_y) ** 2 <= radius ** 2\n",
    "image[mask] = 255\n",
    "\n",
    "plt.imshow(image, cmap='gray')\n",
    "plt.axis('off')\n",
    "plt.show()"
   ]
  },
  {
   "cell_type": "code",
   "execution_count": null,
   "id": "fa4062ce",
   "metadata": {},
   "outputs": [],
   "source": []
  }
 ],
 "metadata": {
  "kernelspec": {
   "display_name": "Python 3 (ipykernel)",
   "language": "python",
   "name": "python3"
  },
  "language_info": {
   "codemirror_mode": {
    "name": "ipython",
    "version": 3
   },
   "file_extension": ".py",
   "mimetype": "text/x-python",
   "name": "python",
   "nbconvert_exporter": "python",
   "pygments_lexer": "ipython3",
   "version": "3.10.9"
  }
 },
 "nbformat": 4,
 "nbformat_minor": 5
}
